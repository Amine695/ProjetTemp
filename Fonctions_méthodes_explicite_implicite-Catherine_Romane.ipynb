{
 "cells": [
  {
   "cell_type": "code",
   "execution_count": null,
   "metadata": {},
   "outputs": [],
   "source": [
    "%matplotlib inline     \n",
    "import numpy as np\n",
    "from matplotlib.pyplot import *\n",
    "from scipy.sparse import diags\n",
    "import matplotlib.pyplot as plt\n",
    "from matplotlib import animation\n",
    "import math\n",
    "import random\n",
    "from random import uniform\n",
    "import pandas as pd\n",
    "from scipy import stats\n",
    "import pylab"
   ]
  },
  {
   "cell_type": "markdown",
   "metadata": {},
   "source": [
    "## Echelle de temps"
   ]
  },
  {
   "cell_type": "markdown",
   "metadata": {},
   "source": [
    "### Sur 1 an mois par mois"
   ]
  },
  {
   "cell_type": "code",
   "execution_count": null,
   "metadata": {},
   "outputs": [],
   "source": [
    "temp_months = {\"Algérie\":[], \"France\":[]}\n",
    "\n",
    "# Nous créons 2 listes vides dans lesquelles nous allons les remplir avec toutes les données du fichier .txt\n",
    "    \n",
    "    # cas de l'Algérie\n",
    "    \n",
    "temp_Alg = []\n",
    "\n",
    "with open(\"Donnees/temperatures_algeria_1.txt\",\"r\") as algerie_1:\n",
    "    line = algerie_1.readline()\n",
    "    while line != \"\":\n",
    "        data = float(line)\n",
    "        temp_Alg.append(data)\n",
    "        line = algerie_1.readline()\n",
    "\n",
    "# cas de la France\n",
    "\n",
    "temp_Fr = []\n",
    "\n",
    "with open(\"Donnees/temperatures_france_1.txt\",\"r\") as france_1:\n",
    "    \n",
    "    line = france_1.readline()\n",
    "    while line != \"\":\n",
    "        data = float(line)\n",
    "        temp_Fr.append(data)\n",
    "        line = france_1.readline()"
   ]
  },
  {
   "cell_type": "code",
   "execution_count": null,
   "metadata": {},
   "outputs": [],
   "source": [
    "def separate_months(L , country):\n",
    "    \"\"\" list[float] * str -> list[float]\n",
    "        on a en paramètres la liste de témpératures par heure sur un an. on veut retourner une liste de 12 éléments,\n",
    "        c'est à dire une température moyenne par mois. \"\"\"\n",
    "    \n",
    "    if country not in temp_months:\n",
    "        print(\"Vous devez choisir entre l'Algérie et la France (attention à l'orthographe)\")\n",
    "        return\n",
    "        \n",
    "    else :\n",
    "        \n",
    "        sum_month = 0.0 \n",
    "        hour = 1\n",
    "\n",
    "        # on parcourt la liste (temp_pays_y). dès que l'on a atteint le nombre d'heures correspondant à 1 mois (730), \n",
    "        #on ajoute leur moyenne (average_temp) au dictionnaire associé au bon pays.\n",
    "\n",
    "        for data in L:\n",
    "            sum_month += data \n",
    "            if hour == 730:\n",
    "                average_temp = sum_month/(24*30)\n",
    "                temp_months[country].append(average_temp)\n",
    "                average_temp = 0\n",
    "                hour = 0\n",
    "                sum_month = 0\n",
    "            hour += 1\n",
    "\n",
    "        return temp_months[country]"
   ]
  },
  {
   "cell_type": "markdown",
   "metadata": {},
   "source": [
    "## Sur un an, jour par jour (donc 365 jours)"
   ]
  },
  {
   "cell_type": "code",
   "execution_count": null,
   "metadata": {},
   "outputs": [],
   "source": [
    "temp_days = {\"Algérie\":[] , \"France\":[]}\n",
    "\n",
    "def separate_days(L , country):\n",
    "    \"\"\" list[float] * str -> list[float]\n",
    "        on a en paramètres la liste de témpératures par heure sur un an. on veut retourner une liste de 365 éléments,\n",
    "        c'est à dire une température moyenne par jour. \"\"\"\n",
    "\n",
    "    #on parcourt la liste. dès que l'on a atteint le nombre d'heures correspondant à 1 jour, on ajoute leur moyenne\n",
    "    #au dictionnaire associé au bon pays\n",
    "    \n",
    "    if country not in temp_days:\n",
    "        print(\"Vous devez choisir entre l'Algérie et la France (attention à l'orthographe)\")\n",
    "        return\n",
    "    \n",
    "    \n",
    "    else : \n",
    "        \n",
    "        sum_day = 0.0 \n",
    "        hour = 1\n",
    "\n",
    "\n",
    "\n",
    "        for data in L:\n",
    "                sum_day += data \n",
    "                if hour == 24:\n",
    "                    average_temp = sum_day/24\n",
    "                    temp_days[country].append(average_temp)\n",
    "                    average_temp = 0\n",
    "                    hour = 0\n",
    "                    sum_day = 0\n",
    "                hour += 1\n",
    "\n",
    "        return temp_days[country]"
   ]
  },
  {
   "cell_type": "markdown",
   "metadata": {},
   "source": [
    "## Sur 24 heures (jour choisi par l'utilisateur)"
   ]
  },
  {
   "cell_type": "code",
   "execution_count": null,
   "metadata": {},
   "outputs": [],
   "source": [
    "temp_hours = {\"Algérie\":[] , \"France\":[]}\n",
    "\n",
    "def pick_a_day(L, country , month, day):\n",
    "    ''' liste[float] * str * int * int -> list[float]\n",
    "        on a en paramètres la liste de témpératures par heure sur un an. on veut retourner une liste de 24 éléments,\n",
    "        c'est à dire la liste de départ tronquée.'''\n",
    "    \n",
    "    # vérifications de la validité des paramètres\n",
    "    \n",
    "    if (day < 1) or (day > 30):\n",
    "        print(\"Le jour n'est pas dans le bon intervalle (il faut qu'il soit compris entre 1 et 30 inclus)\\n\")\n",
    "        return \n",
    "    \n",
    "    if (month < 1) or (month > 12):\n",
    "        print(\"Le mois n'est pas dans le bon intervalle (il faut qu'il soit entre 1 et 12 inclus)\\n\")\n",
    "        return\n",
    "    \n",
    "    if country not in temp_months:\n",
    "        print(\"Vous devez choisir entre l'Algérie et la France (attention à l'orthographe)\")\n",
    "        return\n",
    "    \n",
    "    index_mois = 0\n",
    "    index_jour = 0\n",
    "    index = 0 \n",
    "    liste = np.zeros(24)\n",
    "    \n",
    "    for i in range(1,8771):\n",
    "        \n",
    "        if (i%(30*24) == 0):\n",
    "            index_mois = index_mois + 1\n",
    "            \n",
    "        if(index_mois == month):\n",
    "            for j in range(i-719,i+1):\n",
    "                \n",
    "                liste[index] =  L[j-1]\n",
    "                \n",
    "                if(index+1 == 24):\n",
    "                    index_jour = index_jour + 1\n",
    "                    \n",
    "                if(index_jour == day):\n",
    "                    return liste\n",
    "                \n",
    "                elif(index+1 == 24):\n",
    "                    index = 0\n",
    "                    \n",
    "                index = index + 1\n",
    "    \n",
    "    for j in range(i-719,i+1):\n",
    "                \n",
    "        liste[index] = L[j-1]\n",
    "        \n",
    "        if(index+1 == 24):\n",
    "            index_jour = index_jour + 1\n",
    "\n",
    "        if(index_jour == day):\n",
    "            return liste\n",
    "\n",
    "        elif(index+1 == 24):\n",
    "            index = 0\n",
    "            \n",
    "        index = index + 1\n",
    "     \n",
    "            \n",
    "    return liste"
   ]
  },
  {
   "cell_type": "code",
   "execution_count": null,
   "metadata": {},
   "outputs": [],
   "source": [
    "temp_hours[\"France\"] = pick_a_day(temp_Fr,\"France\",12,30).copy()"
   ]
  },
  {
   "cell_type": "code",
   "execution_count": null,
   "metadata": {},
   "outputs": [],
   "source": [
    "temp_hours[\"Algérie\"] = pick_a_day(temp_Fr,\"Algérie\",1,1).copy()"
   ]
  },
  {
   "cell_type": "markdown",
   "metadata": {},
   "source": [
    "  "
   ]
  },
  {
   "cell_type": "markdown",
   "metadata": {},
   "source": [
    "   "
   ]
  },
  {
   "cell_type": "markdown",
   "metadata": {},
   "source": [
    "   "
   ]
  },
  {
   "cell_type": "markdown",
   "metadata": {},
   "source": [
    "## Calcul des variables nécessaires pour implémentation numérique"
   ]
  },
  {
   "cell_type": "code",
   "execution_count": 2,
   "metadata": {},
   "outputs": [],
   "source": [
    "def delta_t(L,echelle_temps):\n",
    "    \"\"\" list[float] , int -> float\n",
    "        on définit delta_t, la valeur de retour, en heure\"\"\"\n",
    "    \n",
    "    # cas mois par mois sur un an\n",
    "    if(echelle_temps == 1):\n",
    "        delta_t = 730\n",
    "    \n",
    "    # cas jour par jour sur un an \n",
    "    if(echelle == 2):\n",
    "        delta_t = 24\n",
    "        \n",
    "    # cas heure par heure sur un jour\n",
    "    if(echelle == 3):\n",
    "        delta_t = 1\n",
    "        \n",
    "    else:\n",
    "        print(\"Erreur dans le choix de l'échelle de temps\")\n",
    "        return \n",
    "    \n",
    "    return delta_t\n",
    "    "
   ]
  },
  {
   "cell_type": "markdown",
   "metadata": {},
   "source": [
    "## Implémentation numérique : méthode implicite et explicite pour arriver à Crank Nicholson"
   ]
  },
  {
   "cell_type": "raw",
   "metadata": {},
   "source": [
    "Signification des variables:\n",
    "\n",
    "T0: valeur initiale des températures de la colonne de terre (0 généralement)\n",
    "\n",
    "Tg: valeur à gauche de la colonne de terre (en haut)\n",
    "\n",
    "Td: valeur à droite de la colonne de terre (en bas) (même valeur que T0 généralement)\n",
    "\n",
    "N: on tranche notre colonne de terre en N+1 morceaux\n",
    "\n",
    "delta_x: pas spatial (<=> la longueur de chaque morceau découpé dans la colonne de terre) -> unité ???? mètres ?\n",
    "\n",
    "delta_t: pas temporel (on étudie l'évolution de la température à chaque delta_t d'intervalle) -> unité ??? secondes ?\n",
    "\n",
    "lambda_conductivite_thermique_sol: conductivité thermique du sol en W*m^-1*K^-1\n",
    "\n",
    "capacite_thermique_volumique_sol: capacité thermique volumique du sol en J*m^-3*K^-1\n",
    "\n",
    "n: nombre de fois on où on \"avance\" de delta_t dans le temps\n",
    "(donc n*delta_t nous donne le temps réel d'étude de l'évolution de la température au sein de la colonne de terre)\n"
   ]
  },
  {
   "cell_type": "code",
   "execution_count": 1,
   "metadata": {},
   "outputs": [],
   "source": [
    "# REMARQUE : éviter d'appeler une variable ou une fonction \"lambda\" car déjà prédéfini par python\n",
    "\n",
    "# CE QUI SUIT EST UNE BASE POUR IMPLEMENTER LES FONCTIONS DES DEUX METHODES\n",
    "\n",
    "# La fonction suivante permet de discrétiser un intervalle [0,1] en N+1 noeuds équidistants\n",
    "# (c'est-à-dire on \"tranche\" notre colonne de terre en N+1 morceaux)\n",
    "\n",
    "def intervalle_discret(N): # Pour commencer on peut prendre par exemple N=10\n",
    "    x=np.linspace(0,1,N+1)\n",
    "    return x\n",
    "\n",
    "\n",
    "\n",
    "# La fonction suivante permet de calculer la constante alpha de l'équation différentielle \n",
    "# On détermine alpha grâce aux valeurs de la conductivité thermique du sol et à sa capacité thermique volumique\n",
    "# ATTENTION: il faut bien utiliser les unités SI\n",
    "\n",
    "def calcul_alpha(lambda_conductivite_thermique_sol,capacite_thermique_volumique_sol):\n",
    "    alpha=lambda_conductivite_thermique_sol/capacite_thermique_volumique_sol\n",
    "    return alpha\n",
    "\n",
    "# La fonction suivante permet de calculer la valeur de lambda qui servira dans le calcul des températures de la colonne au cours du temps\n",
    "\n",
    "def calcul_lambda(alpha,delta_x,delta_t):\n",
    "    lamb=alpha*delta_t/((delta_x)**2)\n",
    "    return lamb\n",
    "\n",
    "# La fonction suivante permet d'initialiser les températures de notre colonne de terre à l'instant t=0 dans un vecteur colonne de dimensions N-1 (et pas N attention)\n",
    "# Il s'agit d'un choix arbitraire étant donné que les valeurs vont toujours finir par converger vers les températures à l'équilibre thermodynamique de la colonne de terre \n",
    "# On choisit ici d'initialiser notre colonne avec un température uniforme qui vaut 0\n",
    "# ATTENTION: dans le programme qui étudiera la température sur plusieurs heures, il ne faudra pas réinitialiser à 0 à chaque nouvelle heure mais seulement au début de la première\n",
    "def initialisation_T(N,T0):\n",
    "    T=T0*np.ones((N-1,1)) # création d'un vecteur colonne avec que des zéros\n",
    "    return T\n",
    "    \n",
    "# La fonction suivante permet de créer le vecteur qui sera utilisé pour calculer le vecteur T à l'étape k+1\n",
    "# Il n'y a pas vraiment de nom pertinent pour cette fonction\n",
    "# extremite fait référence aux températures aux extrémités de la colonne de terre (car elles interviennent uniquement dans ce vecteur)\n",
    "\n",
    "def extremite(N,lamb,Tg,Td):\n",
    "    ext=np.zeros((N-1,1))\n",
    "    ext[0]=lamb*Tg\n",
    "    ext[-1]=lamb*Td\n",
    "    \n",
    "    return ext\n",
    "\n",
    "\n",
    "# On passe maintenant aux fonctions spécifiques à chaque méthode\n",
    "# \"e\" correspond à explicite et \"i\" à implicite \n",
    "\n",
    "# METHODE EXPLICITE\n",
    "\n",
    "# La fonction suivante permet de créer la matrice diagonale de taille (N-1)*(N-1)\n",
    "# Cette matrice sera utilisée pour calculer le vecteur T à l'étape k+1 avec la méthode explicite\n",
    "# ATENTION : la matrice diagonale est différente pour la méthode implicite\n",
    "\n",
    "def matrice_diag_e(N,lamb):\n",
    "    k = np.array([lamb*np.ones(N-2),1-2*lamb*np.ones(N-1),lamb*np.ones(N-2)])\n",
    "    offset = [-1,0,1]\n",
    "    A = diags(k,offset).toarray()\n",
    "    return A\n",
    "\n",
    "# La fonction suivante est l'implémentation de la méthode explicite\n",
    "# Cette fonction reprend d'autres fonctions vues plus haut\n",
    "# Elle retourne par ailleurs le vecteur colonne T au bout d'un certain temps donné par n*delta_t\n",
    "# Chaque étape (soit chaque boucle) correspond à un avancement de delta_t dans le temps\n",
    "# Plus on fait de boucles, plus on se rappoche de la valeur théorique des températures à l'équilibre thermodynamique dans la colonne\n",
    "# En effet, on atteint à un certain moment des températures constantes dans la colonne de terre qar on a atteint l'équilibre\n",
    "# Pour rappel on considère que l'on s'intéresse à une colonne de terre dont la température est initialement nulle et dont on applique une certaine température au niveau du sol et au niveau de la dernière couche de sol)\n",
    "# Ainsi, pour plus de logique, on suppose que la température imposée sur la dernière couche du sol est égale à la température initiale de la colonne\n",
    "# (cela semblerait étrange d'imposer une température dans le sol à la colonne de terre)\n",
    "\n",
    "\n",
    "def methode_explicite(N,Tg,Td,T0,lambda_conductivite_thermique_sol,capacite_thermique_volumique_sol,delta_x,delta_t,n):\n",
    "    \n",
    "    x=intervalle_discret(N)\n",
    "    alpha=calcul_alpha(lambda_conductivite_thermique_sol,capacite_thermique_volumique_sol)\n",
    "    lamb=calcul_lambda(alpha,delta_x,delta_t)\n",
    "    \n",
    "    T=initialisation_T(N,T0)  # ATTENTION: dans le programme qui étudiera la température sur plusieurs heures, il ne faudra pas réinitialiser à 0 à chaque nouvelle heure mais seulement au début de la première\n",
    "\n",
    "    ext=extremite(N,lamb,Tg,Td)\n",
    "    \n",
    "    A=matrice_diag_e(N,lamb)\n",
    "    \n",
    "    \n",
    "    for i in range(1,n+1):\n",
    "        T=A.dot(T)+ext\n",
    "        \n",
    "    return T\n",
    "\n",
    "\n",
    "# METHODE IMPLICITE\n",
    "\n",
    "# La fonction suivante permet de créer la matrice diagonale de taille (N-1)*(N-1)\n",
    "# Cette matrice sera utilisée pour calculer le vecteur T à l'étape k+1 avec la méthode implicite\n",
    "# ATENTION : cette matrice diagonale est différente pour la méthode explicite\n",
    "\n",
    "def matrice_diag_i(N,lamb):\n",
    "    k = np.array([-lamb*np.ones(N-2),1+2*lamb*np.ones(N-1),-lamb*np.ones(N-2)])\n",
    "    offset = [-1,0,1]\n",
    "    A = diags(k,offset).toarray()\n",
    "    return A\n",
    "\n",
    "# La fonction suivante est l'implémentation de la méthode explicite\n",
    "# Cette fonction reprend d'autres fonctions vues plus haut\n",
    "# Elle retourne par ailleurs le vecteur colonne T au bout d'un certain temps donné par n*delta_t\n",
    "# [Explications cf méthode explicite]\n",
    "\n",
    "def methode_implicite(N,Tg,Td,T0,lambda_conductivite_thermique_sol,capacite_thermique_volumique_sol,delta_x,delta_t,n):\n",
    "    \n",
    "    x=intervalle_discret(N)\n",
    "    alpha=calcul_alpha(lambda_conductivite_thermique_sol,capacite_thermique_volumique_sol)\n",
    "    lamb=calcul_lambda(alpha,delta_x,delta_t)\n",
    "    \n",
    "    T=initialisation_T(N,T0)   # ATTENTION: dans le programme qui étudiera la température sur plusieurs heures, il ne faudra pas réinitialiser à 0 à chaque nouvelle heure mais seulement au début de la première\n",
    "\n",
    "    ext=extremite(N,lamb,Tg,Td)\n",
    "    \n",
    "    A=matrice_diag_i(N,lamb)\n",
    "    \n",
    "    for i in range(1,n+1):\n",
    "        T= np.linalg.solve(A,T+ext)\n",
    "    return T\n",
    "\n",
    "\n"
   ]
  },
  {
   "cell_type": "raw",
   "metadata": {},
   "source": [
    "Choix des variables pour un exemple:\n",
    "\n",
    "Tg=10 \n",
    "Td=0 \n",
    "T0=0 \n",
    "\n",
    "N=10\n",
    "\n",
    "delta_x=0.1   \n",
    "delta_t=10    \n",
    "\n",
    "lambda_conductivite_thermique_sol=2.1\n",
    "capacite_thermique_volumique_sol=1674*10**3\n",
    "\n",
    "n=1000\n"
   ]
  },
  {
   "cell_type": "code",
   "execution_count": 2,
   "metadata": {},
   "outputs": [],
   "source": [
    "Tg=10 \n",
    "Td=0 \n",
    "T0=0 \n",
    "\n",
    "N=10\n",
    "\n",
    "delta_x=0.1   \n",
    "delta_t=10    \n",
    "\n",
    "lambda_conductivite_thermique_sol=2.1\n",
    "capacite_thermique_volumique_sol=1674*10**3\n",
    "\n",
    "n=1000\n"
   ]
  },
  {
   "cell_type": "code",
   "execution_count": 3,
   "metadata": {},
   "outputs": [
    {
     "name": "stdout",
     "output_type": "stream",
     "text": [
      "T explicite = [[5.24235033e+00]\n",
      " [2.12816148e+00]\n",
      " [6.86938897e-01]\n",
      " [1.81613622e-01]\n",
      " [4.03663426e-02]\n",
      " [7.70663722e-03]\n",
      " [1.28608985e-03]\n",
      " [1.90262788e-04]\n",
      " [2.49265682e-05]]\n"
     ]
    }
   ],
   "source": [
    "# Méthode explicite\n",
    "\n",
    "T_e=methode_explicite(N,Tg,Td,T0,lambda_conductivite_thermique_sol,capacite_thermique_volumique_sol,delta_x,delta_t,n)\n",
    "\n",
    "# Affichage des températures de la colonne de terre après un temps de n*delta_t\n",
    "\n",
    "print('T explicite =',T_e)\n"
   ]
  },
  {
   "cell_type": "code",
   "execution_count": 4,
   "metadata": {},
   "outputs": [
    {
     "name": "stdout",
     "output_type": "stream",
     "text": [
      "T implicite = [[5.23980440e+00]\n",
      " [2.12695699e+00]\n",
      " [6.87200628e-01]\n",
      " [1.82111234e-01]\n",
      " [4.06384602e-02]\n",
      " [7.80323060e-03]\n",
      " [1.31210387e-03]\n",
      " [1.95952499e-04]\n",
      " [2.59555921e-05]]\n"
     ]
    }
   ],
   "source": [
    "# Méthode implicite\n",
    "\n",
    "T_i=methode_implicite(N,Tg,Td,T0,lambda_conductivite_thermique_sol,capacite_thermique_volumique_sol,delta_x,delta_t,n)\n",
    "\n",
    "# Affichage des températures de la colonne de terre après un temps de n*delta_t\n",
    "\n",
    "print('T implicite =',T_i)"
   ]
  },
  {
   "cell_type": "raw",
   "metadata": {},
   "source": [
    "#SANS LE n DANS LES PARAMETRES DE LA FONCTION\n",
    "# Programme marche également mais moins pertinent\n",
    "\n",
    "def methode_explicite_test(N,Tg,Td,T0,lambda_conductivite_thermique_sol,capacite_thermique_volumique_sol,delta_x,delta_t):\n",
    "    \n",
    "    x=intervalle_discret(N)\n",
    "    alpha=calcul_alpha(lambda_conductivite_thermique_sol,capacite_thermique_volumique_sol)\n",
    "    lamb=calcul_lambda(alpha,delta_x,delta_t)\n",
    "    T=initialisation_T(N,T0)\n",
    "    ext=extremite(N,lamb,Tg,Td)\n",
    "    \n",
    "    A=matrice_diag_e(N,lamb)\n",
    "    n=1000\n",
    "    for i in range(1,n+1):\n",
    "        T=A.dot(T)+ext\n",
    "        \n",
    "    return T\n",
    "\n",
    "\n",
    "def methode_implicite_test(N,Tg,Td,T0,lambda_conductivite_thermique_sol,capacite_thermique_volumique_sol,delta_x,delta_t):\n",
    "    \n",
    "    x=intervalle_discret(N)\n",
    "    alpha=calcul_alpha(lambda_conductivite_thermique_sol,capacite_thermique_volumique_sol)\n",
    "    lamb=calcul_lambda(alpha,delta_x,delta_t)\n",
    "    T=initialisation_T(N,T0)\n",
    "    ext=extremite(N,lamb,Tg,Td)\n",
    "    \n",
    "    A=matrice_diag_i(N,lamb)\n",
    "    n=1000\n",
    "    for i in range(1,n+1):\n",
    "        T= np.linalg.solve(A,T+ext)\n",
    "    return T\n",
    "\n",
    "T_e=methode_explicite(N,Tg,Td,T0,lambda_conductivite_thermique_sol,capacite_thermique_volumique_sol,delta_x,delta_t,n)\n",
    "print('T explicite =',T_e)\n",
    "T_e=methode_explicite_test(N,Tg,Td,T0,lambda_conductivite_thermique_sol,capacite_thermique_volumique_sol,delta_x,delta_t)\n",
    "\n",
    "#T_i=methode_implicite_test(N,Tg,Td,T0,lambda_conductivite_thermique_sol,capacite_thermique_volumique_sol,delta_x,delta_t)\n",
    "\n",
    "print('T explicite =',T_e)\n",
    "#print('T implicite =',T_i)\n"
   ]
  },
  {
   "cell_type": "code",
   "execution_count": 5,
   "metadata": {},
   "outputs": [],
   "source": [
    "# Méthode de Crank Nicolson\n",
    "\n",
    "def crank_nicolson(N,Tg,Td,T0,lambda_conductivite_thermique_sol,capacite_thermique_volumique_sol,delta_x,delta_t,n):\n",
    "    T_e=methode_explicite(N,Tg,Td,T0,lambda_conductivite_thermique_sol,capacite_thermique_volumique_sol,delta_x,delta_t,n)\n",
    "    T_i=methode_implicite(N,Tg,Td,T0,lambda_conductivite_thermique_sol,capacite_thermique_volumique_sol,delta_x,delta_t,n)\n",
    "    \n",
    "    T=0.5*(T_e+T_i)\n",
    "    \n",
    "    return T"
   ]
  },
  {
   "cell_type": "code",
   "execution_count": 6,
   "metadata": {},
   "outputs": [
    {
     "name": "stdout",
     "output_type": "stream",
     "text": [
      "T= [[5.24107737e+00]\n",
      " [2.12755923e+00]\n",
      " [6.87069762e-01]\n",
      " [1.81862428e-01]\n",
      " [4.05024014e-02]\n",
      " [7.75493391e-03]\n",
      " [1.29909686e-03]\n",
      " [1.93107643e-04]\n",
      " [2.54410802e-05]]\n"
     ]
    }
   ],
   "source": [
    "T=crank_nicolson(N,Tg,Td,T0,lambda_conductivite_thermique_sol,capacite_thermique_volumique_sol,delta_x,delta_t,n)\n",
    "print('T=',T)"
   ]
  },
  {
   "cell_type": "code",
   "execution_count": 7,
   "metadata": {},
   "outputs": [
    {
     "name": "stdout",
     "output_type": "stream",
     "text": [
      "T= [[5.24107737e+01]\n",
      " [2.12755923e+01]\n",
      " [6.87069762e+00]\n",
      " [1.81862428e+00]\n",
      " [4.05024014e-01]\n",
      " [7.75493391e-02]\n",
      " [1.29909686e-02]\n",
      " [1.93107643e-03]\n",
      " [2.54410802e-04]]\n"
     ]
    }
   ],
   "source": [
    "#CASE TESTS\n",
    "\n",
    "def crank_nicolson_bis(N,Tg,Td,T0,lambda_conductivite_thermique_sol,capacite_thermique_volumique_sol,delta_x,delta_t,n):\n",
    "    T_e=methode_explicite(N,Tg,Td,T0,lambda_conductivite_thermique_sol,capacite_thermique_volumique_sol,delta_x,delta_t,n)\n",
    "    T_i=methode_implicite(N,Tg,Td,T0,lambda_conductivite_thermique_sol,capacite_thermique_volumique_sol,delta_x,delta_t,n)\n",
    "    \n",
    "    T=0.5*delta_t*(T_e+T_i)\n",
    "    \n",
    "    return T\n",
    "\n",
    "T=crank_nicolson_bis(N,Tg,Td,T0,lambda_conductivite_thermique_sol,capacite_thermique_volumique_sol,delta_x,delta_t,n)\n",
    "print('T=',T)"
   ]
  },
  {
   "cell_type": "code",
   "execution_count": null,
   "metadata": {},
   "outputs": [],
   "source": []
  }
 ],
 "metadata": {
  "kernelspec": {
   "display_name": "Python 3",
   "language": "python",
   "name": "python3"
  },
  "language_info": {
   "codemirror_mode": {
    "name": "ipython",
    "version": 3
   },
   "file_extension": ".py",
   "mimetype": "text/x-python",
   "name": "python",
   "nbconvert_exporter": "python",
   "pygments_lexer": "ipython3",
   "version": "3.8.3"
  }
 },
 "nbformat": 4,
 "nbformat_minor": 4
}
