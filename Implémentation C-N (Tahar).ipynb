{
 "cells": [
  {
   "cell_type": "markdown",
   "metadata": {},
   "source": [
    "# Implémentation de la méthode Crank-Nicolson\n",
    "\n",
    "# Introduction\n",
    "\n",
    "Dans cette section, nous allons implémenter la méthode de Crank-Nicolson avec les données mises à dispostion. Par conséquent, un traitement de ces données est requis en premier lieu. Celui-ci se fera par cycle : journée, mois, année. Il sera aussi nécessaire de déterminer les températures max et min sur chacun des cycles pour le calcul des conditions limites. \n",
    "\n",
    "Puis après, nous mettrons en place la résolution numérique en utilisant la méthode implicite de Crank-Nicolson.\n",
    "\n",
    "NB : Pour simplifier le problème, la structure des cycles sera comme ceci : 1 année = 12 mois, 1 mois = 30 jours, 1 jour = 24 heures.\n",
    "\n",
    "Tout d'abord avant de commencer à travailler, importons les libraires et les variables dont on aura besoin."
   ]
  },
  {
   "cell_type": "code",
   "execution_count": 24,
   "metadata": {},
   "outputs": [],
   "source": [
    "# importation des librairies \n",
    "import numpy as np\n",
    "import matplotlib.pyplot as plt\n",
    "import matplotlib.colors as colors\n",
    "from mpl_toolkits.mplot3d import Axes3D"
   ]
  },
  {
   "cell_type": "markdown",
   "metadata": {},
   "source": [
    "On récupère les données dans les fichiers sources et on les sauvegarde dans des listes pour pouvoir les traiter : "
   ]
  },
  {
   "cell_type": "code",
   "execution_count": 25,
   "metadata": {},
   "outputs": [],
   "source": [
    "#Algérie \n",
    "\n",
    "list_Alg = []\n",
    "\n",
    "with open(\"Donnees/temperatures_algeria_1.txt\",\"r\") as algerie_1:\n",
    "    line = algerie_1.readline()\n",
    "    while line != \"\":\n",
    "        data = float(line)\n",
    "        list_Alg.append(data)\n",
    "        line = algerie_1.readline()\n",
    "\n",
    "#France\n",
    "\n",
    "list_Fr = []\n",
    "\n",
    "with open(\"Donnees/temperatures_france_1.txt\",\"r\") as france_1:\n",
    "    \n",
    "    line = france_1.readline()\n",
    "    while line != \"\":\n",
    "        data = float(line)\n",
    "        list_Fr.append(data)\n",
    "        line = france_1.readline()"
   ]
  },
  {
   "cell_type": "markdown",
   "metadata": {},
   "source": [
    "Puis on déclare les dictionnaires de stockages pour chacun des cycles : "
   ]
  },
  {
   "cell_type": "code",
   "execution_count": 26,
   "metadata": {},
   "outputs": [],
   "source": [
    "#Cycle sur une année\n",
    "list_years = {\"Algérie\":[], \"France\":[]}\n",
    "#Cycle sur un mois\n",
    "list_months = {\"Algérie\":[], \"France\":[]}\n",
    "#Cycle sur une journée\n",
    "list_days = {\"Algérie\":[], \"France\":[]}"
   ]
  },
  {
   "cell_type": "markdown",
   "metadata": {},
   "source": [
    "# Cycle sur une année : "
   ]
  },
  {
   "cell_type": "markdown",
   "metadata": {},
   "source": [
    "Ici, nous allons faire la moyenne des températures sur une année, i.e sommer toutes les températures puis diviser par le nombre d'éléments sommés."
   ]
  },
  {
   "cell_type": "code",
   "execution_count": 27,
   "metadata": {},
   "outputs": [],
   "source": [
    "list_years['Algérie'] = np.mean(list_Alg)\n",
    "list_years['France'] = np.mean(list_Fr)"
   ]
  },
  {
   "cell_type": "markdown",
   "metadata": {},
   "source": [
    "# Cycle sur un mois : "
   ]
  },
  {
   "cell_type": "markdown",
   "metadata": {},
   "source": [
    "Ici, nous allons faire la moyenne des températures sur une année, i.e sommer toutes les températures d'un mois puis diviser par le nombre d'éléments sommés."
   ]
  },
  {
   "cell_type": "code",
   "execution_count": 28,
   "metadata": {},
   "outputs": [],
   "source": [
    "#Algérie\n",
    "\n",
    "sum_month = 0.0 \n",
    "hour = 1\n",
    "    \n",
    "for data in list_Alg :\n",
    "    sum_month += data \n",
    "    if hour == 730:\n",
    "        average_temp = sum_month/(24*30)\n",
    "        list_months['Algérie'].append(average_temp)\n",
    "        average_temp = 0\n",
    "        hour = 0\n",
    "        sum_month = 0\n",
    "    hour += 1\n",
    "    \n",
    "#France\n",
    "\n",
    "sum_month = 0.0 \n",
    "hour = 1\n",
    "    \n",
    "for data in list_Fr :\n",
    "    sum_month += data \n",
    "    if hour == 730:\n",
    "        average_temp = sum_month/(24*30)\n",
    "        list_months['France'].append(average_temp)\n",
    "        average_temp = 0\n",
    "        hour = 0\n",
    "        sum_month = 0\n",
    "    hour += 1"
   ]
  },
  {
   "cell_type": "markdown",
   "metadata": {},
   "source": [
    "# Cycle sur une journée :\n",
    "\n",
    "Ici, nous allons faire la moyenne des températures sur une journée, i.e sommer toutes les températures d'une journée puis diviser par le nombre d'éléments sommés."
   ]
  },
  {
   "cell_type": "code",
   "execution_count": 29,
   "metadata": {},
   "outputs": [],
   "source": [
    "#Algérie\n",
    "\n",
    "sum_day = 0.0 \n",
    "hour = 1\n",
    "    \n",
    "for data in list_Alg:\n",
    "    sum_day += data \n",
    "    if hour == 24:\n",
    "        average_temp = sum_day/24\n",
    "        list_days['Algérie'].append(average_temp)\n",
    "        average_temp = 0\n",
    "        hour = 0\n",
    "        sum_day = 0\n",
    "    hour += 1\n",
    "\n",
    "\n",
    "#France \n",
    "\n",
    "sum_day = 0.0 \n",
    "hour = 1\n",
    "    \n",
    "for data in list_Fr:\n",
    "    sum_day += data \n",
    "    if hour == 24:\n",
    "        average_temp = sum_day/24\n",
    "        list_days['France'].append(average_temp)\n",
    "        average_temp = 0\n",
    "        hour = 0\n",
    "        sum_day = 0\n",
    "    hour += 1"
   ]
  },
  {
   "cell_type": "markdown",
   "metadata": {},
   "source": [
    "# Détermination de Tmin et Tmax pour chaque cycle\n",
    "\n",
    "Dans cette partie, nous allons déterminer les températures max et min pour chaque cycle afin de pouvoir calculer l'une des conditions aux limites, T0. Pour cela, on va créer plusieurs dictionnaires et listes : \n",
    "\n",
    "- une liste Ti_years qui contiendra deux éléments : les températures max et min d'une année.\n",
    "- un dictionnaire Ti_months qui pour chaque mois contiendra les températures max et min de celui-ci. \n",
    "- un dictionnaire Ti_days qui pour chaque jour contiendra les températures max et min de celui-ci."
   ]
  },
  {
   "cell_type": "code",
   "execution_count": 54,
   "metadata": {},
   "outputs": [],
   "source": [
    "# Cycle année\n",
    "\n",
    "Ti_years = {\"Algérie\":[], \"France\":[]}\n",
    "\n",
    "Ti_years['Algérie'].append(np.max(list_months['Algérie']))\n",
    "Ti_years['Algérie'].append(np.min(list_months['Algérie']))\n",
    "Ti_years['France'].append(np.max(list_months['France']))\n",
    "Ti_years['France'].append(np.min(list_months['France']))\n",
    "\n",
    "# Cycle mois \n",
    "\n",
    "Ti_months = {\"Algérie\":{\n",
    "    \"janvier\": [],\n",
    "    \"février\": [],\n",
    "    \"mars\": [],\n",
    "    \"avril\": [],\n",
    "    \"mai\": [],\n",
    "    \"juin\": [],\n",
    "    \"juillet\": [],\n",
    "    \"août\": [],\n",
    "    \"septembre\": [],\n",
    "    \"octobre\": [],\n",
    "    \"novembre\": [],\n",
    "    \"décembre\": []\n",
    "}, \"France\":{\n",
    "    \"janvier\": [],\n",
    "    \"février\": [],\n",
    "    \"mars\": [],\n",
    "    \"avril\": [],\n",
    "    \"mai\": [],\n",
    "    \"juin\": [],\n",
    "    \"juillet\": [],\n",
    "    \"août\": [],\n",
    "    \"septembre\": [],\n",
    "    \"octobre\": [],\n",
    "    \"novembre\": [],\n",
    "    \"décembre\": []\n",
    "}}\n",
    "\n",
    "dict_months = {1 : \"janvier\",\n",
    "    2 : \"février\",\n",
    "    3 : \"mars\",\n",
    "    4 : \"avril\",\n",
    "    5 : \"mai\",\n",
    "    6 : \"juin\",\n",
    "    7 : \"juillet\",\n",
    "    8 : \"août\",\n",
    "    9 : \"septembre\",\n",
    "    10 : \"octobre\",\n",
    "    11 : \"novembre\",\n",
    "    12 : \"décembre\"}\n",
    "\n",
    "temp_list = []\n",
    "i = 1\n",
    "\n",
    "for data in list_days['Algérie']:\n",
    "    if i == 13:\n",
    "        break\n",
    "    if len(temp_list) == 30:\n",
    "        Ti_months['Algérie'][dict_months[i]].append(np.max(temp_list))\n",
    "        Ti_months['Algérie'][dict_months[i]].append(np.min(temp_list))\n",
    "        temp_list.clear()\n",
    "        i += 1\n",
    "    temp_list.append(data)\n",
    "    \n",
    "temp_list.clear\n",
    "i = 1\n",
    "\n",
    "for data in list_days['France']:\n",
    "    if i == 13:\n",
    "        break\n",
    "    if len(temp_list) == 30:\n",
    "        Ti_months['France'][dict_months[i]].append(np.max(temp_list))\n",
    "        Ti_months['France'][dict_months[i]].append(np.min(temp_list))\n",
    "        temp_list.clear()\n",
    "        i += 1\n",
    "    temp_list.append(data)"
   ]
  }
 ],
 "metadata": {
  "kernelspec": {
   "display_name": "Python 3",
   "language": "python",
   "name": "python3"
  },
  "language_info": {
   "codemirror_mode": {
    "name": "ipython",
    "version": 3
   },
   "file_extension": ".py",
   "mimetype": "text/x-python",
   "name": "python",
   "nbconvert_exporter": "python",
   "pygments_lexer": "ipython3",
   "version": "3.8.3"
  }
 },
 "nbformat": 4,
 "nbformat_minor": 4
}
